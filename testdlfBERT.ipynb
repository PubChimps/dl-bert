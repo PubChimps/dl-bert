{
 "cells": [
  {
   "cell_type": "code",
   "execution_count": 2,
   "metadata": {},
   "outputs": [
    {
     "data": {
      "text/plain": [
       "[{'label': 'LABEL_0', 'score': 0.9957366585731506}]"
      ]
     },
     "execution_count": 2,
     "metadata": {},
     "output_type": "execute_result"
    }
   ],
   "source": [
    "from transformers import TextClassificationPipeline, RobertaTokenizer, RobertaForSequenceClassification\n",
    "\n",
    "DLFBERT_LANGUAGE_ID = 'PubChimps/dlfBERT'\n",
    "code = \"\"\"\n",
    "model = tf.keras.models.Sequential([\n",
    "  tf.keras.layers.Flatten(input_shape=(28, 28)),\n",
    "  tf.keras.layers.Dense(128, activation='relu'),\n",
    "  tf.keras.layers.Dropout(0.2),\n",
    "  tf.keras.layers.Dense(10)\n",
    "])\n",
    "\"\"\"\n",
    "pipeline = TextClassificationPipeline(\n",
    "    model=RobertaForSequenceClassification.from_pretrained(DLFBERT_LANGUAGE_ID),\n",
    "    tokenizer=RobertaTokenizer.from_pretrained(DLFBERT_LANGUAGE_ID)\n",
    ")\n",
    "\n",
    "pipeline(code)"
   ]
  }
 ],
 "metadata": {
  "kernelspec": {
   "display_name": "Python 3",
   "language": "python",
   "name": "python3"
  },
  "language_info": {
   "codemirror_mode": {
    "name": "ipython",
    "version": 3
   },
   "file_extension": ".py",
   "mimetype": "text/x-python",
   "name": "python",
   "nbconvert_exporter": "python",
   "pygments_lexer": "ipython3",
   "version": "3.7.4"
  }
 },
 "nbformat": 4,
 "nbformat_minor": 2
}
